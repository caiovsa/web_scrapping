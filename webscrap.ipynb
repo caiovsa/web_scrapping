{
 "cells": [
  {
   "cell_type": "code",
   "execution_count": 1,
   "metadata": {},
   "outputs": [],
   "source": [
    "from bs4 import BeautifulSoup\n",
    "import requests\n",
    "import time\n",
    "import datetime\n",
    "import smtplib\n",
    "import warnings\n",
    "warnings.simplefilter(action='ignore', category=FutureWarning)"
   ]
  },
  {
   "cell_type": "code",
   "execution_count": 3,
   "metadata": {},
   "outputs": [
    {
     "name": "stdout",
     "output_type": "stream",
     "text": [
      "Product Title: Elden Ring - PlayStation 4\n",
      "Price: R$219,99\n",
      "Rating: 4,9 de 5 estrelas\n",
      "Reviews Count: 3.956 avaliações de clientes\n",
      "Description: A Ordem Áurea foi quebrada. Levante-se, Maculado, e seja guiado pela graça para empunhar o poder do Anel Prístino e se tornar um Lorde Prístino nas Terras Intermédias. ELDEN RING, é um RPG de ação e fantasia ambientado em um mundo cheio de mistério e perigo. Um novo mundo de fantasia: Viaje pelas Terras Intermédias, um mundo de fantasia criado por Hidetaka Miyazaki, criador de DARK SOULS, e George R.R. Martin, autor do best-seller, AS CRÔNICAS de GELO e FOGO.Desvende os mistérios do poder do Anel Prístino. Encontre adversários com histórias profundas, personagens com suas próprias motivações únicas para ajudar ou atrapalhar seu progresso, e criaturas terríveis.\n"
     ]
    }
   ],
   "source": [
    "# URL que vamos dar scrap, no caso do projeto, peguei um link de um produto da Amazon\n",
    "url = 'https://www.amazon.com.br/Elden-Ring-Padr%C3%A3o-Playstation-4/dp/B07T8XCPSP/ref=sr_1_1?__mk_pt_BR=%C3%85M%C3%85%C5%BD%C3%95%C3%91&crid=VM464FQOFRUJ&keywords=elden+ring&qid=1684120907&sprefix=elden+ring%2Caps%2C221&sr=8-1&ufe=app_do%3Aamzn1.fos.6a09f7ec-d911-4889-ad70-de8dd83c8a74'\n",
    "\n",
    "\n",
    "# http://www.networkinghowtos.com/howto/common-user-agent-list/\n",
    "HEADERS = ({'User-Agent':\n",
    "            'Mozilla/5.0 (Windows NT 10.0; Win64; x64; rv:53.0) Gecko/20100101 Firefox/53.0',\n",
    "            'Accept-Language': 'en-US, en;q=0.5'})\n",
    "\n",
    "\n",
    "# Vamos mandar um 'GET request' para a URL, para nos pegarmos o HTML\n",
    "response = requests.get(url, headers= HEADERS)\n",
    "html_content = response.text\n",
    "\n",
    "# BeautifulSoup object, ele que vai receber o html que pegamos\n",
    "soup = BeautifulSoup(html_content, 'html.parser')\n",
    "\n",
    "# Extrair o titulo\n",
    "product_title = soup.find('span', attrs={'id': 'productTitle'}).get_text().strip()\n",
    "\n",
    "# Preço\n",
    "price = soup.find(\"span\", attrs={'class': 'a-offscreen'}).string.strip()\n",
    "\n",
    "# Score (Nota, ou rating, como vocês preferirem)\n",
    "rating = soup.find('span', attrs={'class': 'a-icon-alt'}).get_text().strip()\n",
    "\n",
    "# Reviews (Nesse caso é quantidade)\n",
    "reviews_count = soup.find('span', attrs={'id': 'acrCustomerReviewText'}).get_text().strip()\n",
    "\n",
    "# Descrição do produto\n",
    "description_element = soup.find('div', attrs={'id': 'productDescription'})\n",
    "description = description_element.get_text().strip() if description_element else 'N/A'\n",
    "\n",
    "# Printzao qualidade\n",
    "print('Product Title: {}'.format(product_title))\n",
    "print('Price: {}'.format(price))\n",
    "print('Rating: {}'.format(rating))\n",
    "print('Reviews Count: {}'.format(reviews_count))\n",
    "print('Description: {}'.format(description))\n"
   ]
  },
  {
   "cell_type": "code",
   "execution_count": 15,
   "metadata": {},
   "outputs": [
    {
     "name": "stdout",
     "output_type": "stream",
     "text": [
      "2023-05-15 16:55:08.969528\n",
      "2023 5 15 16 55\n"
     ]
    }
   ],
   "source": [
    "# Vou criar uma variavel com data, para salvar no nosso dataset quando pegamos esses dados\n",
    "\n",
    "import datetime\n",
    "now = datetime.datetime.now()\n",
    "print(now)\n",
    "print(now.year, now.month, now.day, now.hour, now.minute)"
   ]
  },
  {
   "cell_type": "code",
   "execution_count": 5,
   "metadata": {},
   "outputs": [],
   "source": [
    "# Temos muitas variaves...vou anotar tudo aqui so pra eu não esquecer\n",
    "# product_title, price, rating, reviews_count, description, now ---> Nessa ordem\n",
    "import pandas as pd\n",
    "\n",
    "d = {'Titulo': product_title, 'Preço': price, 'Rating': rating, 'Reviews': reviews_count, 'Descrição': description, 'Data_request': now}\n",
    "df = pd.DataFrame(data = d, index = [0])\n"
   ]
  },
  {
   "cell_type": "code",
   "execution_count": 6,
   "metadata": {},
   "outputs": [
    {
     "data": {
      "text/html": [
       "<div>\n",
       "<style scoped>\n",
       "    .dataframe tbody tr th:only-of-type {\n",
       "        vertical-align: middle;\n",
       "    }\n",
       "\n",
       "    .dataframe tbody tr th {\n",
       "        vertical-align: top;\n",
       "    }\n",
       "\n",
       "    .dataframe thead th {\n",
       "        text-align: right;\n",
       "    }\n",
       "</style>\n",
       "<table border=\"1\" class=\"dataframe\">\n",
       "  <thead>\n",
       "    <tr style=\"text-align: right;\">\n",
       "      <th></th>\n",
       "      <th>Titulo</th>\n",
       "      <th>Preço</th>\n",
       "      <th>Rating</th>\n",
       "      <th>Reviews</th>\n",
       "      <th>Descrição</th>\n",
       "      <th>Data_request</th>\n",
       "    </tr>\n",
       "  </thead>\n",
       "  <tbody>\n",
       "    <tr>\n",
       "      <th>0</th>\n",
       "      <td>Elden Ring - PlayStation 4</td>\n",
       "      <td>R$219,99</td>\n",
       "      <td>4,9 de 5 estrelas</td>\n",
       "      <td>3.956 avaliações de clientes</td>\n",
       "      <td>A Ordem Áurea foi quebrada. Levante-se, Macula...</td>\n",
       "      <td>2023-05-15</td>\n",
       "    </tr>\n",
       "  </tbody>\n",
       "</table>\n",
       "</div>"
      ],
      "text/plain": [
       "                       Titulo     Preço             Rating  \\\n",
       "0  Elden Ring - PlayStation 4  R$219,99  4,9 de 5 estrelas   \n",
       "\n",
       "                        Reviews  \\\n",
       "0  3.956 avaliações de clientes   \n",
       "\n",
       "                                           Descrição Data_request  \n",
       "0  A Ordem Áurea foi quebrada. Levante-se, Macula...   2023-05-15  "
      ]
     },
     "metadata": {},
     "output_type": "display_data"
    }
   ],
   "source": [
    "display(df.head())"
   ]
  },
  {
   "cell_type": "code",
   "execution_count": 7,
   "metadata": {},
   "outputs": [],
   "source": [
    "# Ja temos nossa dataset...agora vamos criar uma função para brincar com as urls!\n",
    "# Ou seja, vou criar uma função para no momento que jogarmos a url nela, ela ja vai salvar no dataset e depois printar\n",
    "\n",
    "def get_amazon(x):\n",
    "        \n",
    "    url = x\n",
    "    # http://www.networkinghowtos.com/howto/common-user-agent-list/\n",
    "    HEADERS = ({'User-Agent':\n",
    "            'Mozilla/5.0 (X11; Linux x86_64) AppleWebKit/537.36 (KHTML, like Gecko) Chrome/44.0.2403.157 Safari/537.36',\n",
    "            'Accept-Language': 'en-US, en;q=0.5'})\n",
    "\n",
    "\n",
    "    # Vamos mandar um 'GET request' para a URL, para nos pegarmos o HTML\n",
    "    response = requests.get(url, headers= HEADERS)\n",
    "    html_content = response.text\n",
    "\n",
    "    # BeautifulSoup object, ele que vai receber o html que pegamos\n",
    "    soup = BeautifulSoup(html_content, 'html.parser')\n",
    "\n",
    "    # Extrair o titulo\n",
    "    product_title = soup.find('span', attrs={'id': 'productTitle'}).get_text().strip()\n",
    "\n",
    "    # Preço\n",
    "    price = soup.find(\"span\", attrs={'class': 'a-offscreen'}).string.strip()\n",
    "\n",
    "    # Score (Nota, ou rating, como vocês preferirem)\n",
    "    rating = soup.find('span', attrs={'class': 'a-icon-alt'}).get_text().strip()\n",
    "\n",
    "    # Reviews (Nesse caso é quantidade)\n",
    "    reviews_count = soup.find('span', attrs={'id': 'acrCustomerReviewText'}).get_text().strip()\n",
    "\n",
    "    # Descrição do produto\n",
    "    description_element = soup.find('div', attrs={'id': 'productDescription'})\n",
    "    description = description_element.get_text().strip() if description_element else 'N/A'\n",
    "\n",
    "    # Printzao qualidade\n",
    "    print('Product Title: {}'.format(product_title))\n",
    "    print('Price: {}'.format(price))\n",
    "    print('Rating: {}'.format(rating))\n",
    "    print('Reviews Count: {}'.format(reviews_count))\n",
    "    print('Description: {}'.format(description))\n",
    "    \n",
    "    # Colocando a data tb, ninguem é de ferro\n",
    "    now = datetime.date.today()\n",
    "    \n",
    "    # Salvando no nosso dataframe do pandinhas\n",
    "    new_row = {'Titulo': product_title, 'Preço': price, 'Rating': rating, 'Reviews': reviews_count, 'Descrição': description, 'Data_request': now}\n",
    "    global df\n",
    "    df = df.append(new_row, ignore_index=True)"
   ]
  },
  {
   "cell_type": "code",
   "execution_count": 8,
   "metadata": {},
   "outputs": [
    {
     "name": "stdout",
     "output_type": "stream",
     "text": [
      "Product Title: Boa Noite Punpun - Vol. 1\n",
      "Price: R$ 49,90\n",
      "Rating: 4,8 de 5 estrelas\n",
      "Reviews Count: 2.727 avaliações de clientes\n",
      "Description: N/A\n"
     ]
    }
   ],
   "source": [
    "get_amazon('https://www.amazon.com.br/Boa-Noite-Punpun-Inio-Asano/dp/8545709617/ref=pd_ci_mcx_mh_mcx_views_0?pd_rd_w=Uo8xi&content-id=amzn1.sym.5750b988-c722-40d9-8c9a-41af4853947c&pf_rd_p=5750b988-c722-40d9-8c9a-41af4853947c&pf_rd_r=B2BT9G83ZXDFPS7CCS8Y&pd_rd_wg=2qdbD&pd_rd_r=9b803702-b785-42aa-adec-6f919c7bc450&pd_rd_i=8545709617')"
   ]
  },
  {
   "cell_type": "code",
   "execution_count": 9,
   "metadata": {},
   "outputs": [
    {
     "data": {
      "text/html": [
       "<div>\n",
       "<style scoped>\n",
       "    .dataframe tbody tr th:only-of-type {\n",
       "        vertical-align: middle;\n",
       "    }\n",
       "\n",
       "    .dataframe tbody tr th {\n",
       "        vertical-align: top;\n",
       "    }\n",
       "\n",
       "    .dataframe thead th {\n",
       "        text-align: right;\n",
       "    }\n",
       "</style>\n",
       "<table border=\"1\" class=\"dataframe\">\n",
       "  <thead>\n",
       "    <tr style=\"text-align: right;\">\n",
       "      <th></th>\n",
       "      <th>Titulo</th>\n",
       "      <th>Preço</th>\n",
       "      <th>Rating</th>\n",
       "      <th>Reviews</th>\n",
       "      <th>Descrição</th>\n",
       "      <th>Data_request</th>\n",
       "    </tr>\n",
       "  </thead>\n",
       "  <tbody>\n",
       "    <tr>\n",
       "      <th>0</th>\n",
       "      <td>Elden Ring - PlayStation 4</td>\n",
       "      <td>R$219,99</td>\n",
       "      <td>4,9 de 5 estrelas</td>\n",
       "      <td>3.956 avaliações de clientes</td>\n",
       "      <td>A Ordem Áurea foi quebrada. Levante-se, Macula...</td>\n",
       "      <td>2023-05-15</td>\n",
       "    </tr>\n",
       "    <tr>\n",
       "      <th>1</th>\n",
       "      <td>Boa Noite Punpun - Vol. 1</td>\n",
       "      <td>R$ 49,90</td>\n",
       "      <td>4,8 de 5 estrelas</td>\n",
       "      <td>2.727 avaliações de clientes</td>\n",
       "      <td>N/A</td>\n",
       "      <td>2023-05-15</td>\n",
       "    </tr>\n",
       "  </tbody>\n",
       "</table>\n",
       "</div>"
      ],
      "text/plain": [
       "                       Titulo     Preço             Rating  \\\n",
       "0  Elden Ring - PlayStation 4  R$219,99  4,9 de 5 estrelas   \n",
       "1   Boa Noite Punpun - Vol. 1  R$ 49,90  4,8 de 5 estrelas   \n",
       "\n",
       "                        Reviews  \\\n",
       "0  3.956 avaliações de clientes   \n",
       "1  2.727 avaliações de clientes   \n",
       "\n",
       "                                           Descrição Data_request  \n",
       "0  A Ordem Áurea foi quebrada. Levante-se, Macula...   2023-05-15  \n",
       "1                                                N/A   2023-05-15  "
      ]
     },
     "execution_count": 9,
     "metadata": {},
     "output_type": "execute_result"
    }
   ],
   "source": [
    "df.head()"
   ]
  },
  {
   "cell_type": "code",
   "execution_count": null,
   "metadata": {},
   "outputs": [],
   "source": []
  },
  {
   "cell_type": "code",
   "execution_count": 10,
   "metadata": {},
   "outputs": [],
   "source": [
    "# Depois de brincar com os links, é so salvar\n",
    "# Esse primeiro codigo foi a primeira vez que fiz, para criar o csv -> Amazon_scrap\n",
    "# Ele ja existe, agora é so 'adicionar' os novos dados no csv que ja criei\n",
    "\n",
    "# df.to_csv('Amazon_scrap.csv', sep=',', index=False, encoding='utf-8')\n",
    "\n",
    "\n",
    "\n",
    "# Agora vem o adicionar no csv ja existente\n",
    "df.to_csv('Amazon_scrap.csv', mode='a', index=False, header=False)\n",
    "\n"
   ]
  },
  {
   "cell_type": "code",
   "execution_count": null,
   "metadata": {},
   "outputs": [],
   "source": []
  },
  {
   "attachments": {},
   "cell_type": "markdown",
   "metadata": {},
   "source": [
    "# Segundo projeto"
   ]
  },
  {
   "attachments": {},
   "cell_type": "markdown",
   "metadata": {},
   "source": [
    "### No segundo projeto eu criei um arquivo (price_check.py)\n",
    "##### Ele faz a mesma coisa que estamos fazendo agora, a diferença que mandei ele verificar os preços de produtos fixos\n",
    "##### Esses produtos estão com as urls salvas no csv (urls) e toda vez que o programa é executado ele verifica o preço dos mesmos produtos\n",
    "##### O objetivo era fazer com que ele rodasse algumas vezes no dia, por alguns dias, para verificar a variação no preço\n",
    "##### Mas acabou que não executei varias vezes, pois os produtos que escolhi não sofrem tanta variação assim...\n",
    "##### Talvez eu tente fazer novamente, acessando outro site com algum produto que tenha um valor variavel\n"
   ]
  },
  {
   "cell_type": "code",
   "execution_count": null,
   "metadata": {},
   "outputs": [],
   "source": []
  }
 ],
 "metadata": {
  "kernelspec": {
   "display_name": "base",
   "language": "python",
   "name": "python3"
  },
  "language_info": {
   "codemirror_mode": {
    "name": "ipython",
    "version": 3
   },
   "file_extension": ".py",
   "mimetype": "text/x-python",
   "name": "python",
   "nbconvert_exporter": "python",
   "pygments_lexer": "ipython3",
   "version": "3.9.13"
  },
  "orig_nbformat": 4
 },
 "nbformat": 4,
 "nbformat_minor": 2
}
